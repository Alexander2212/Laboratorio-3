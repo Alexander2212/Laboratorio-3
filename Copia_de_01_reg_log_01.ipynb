{
  "cells": [
    {
      "cell_type": "markdown",
      "metadata": {
        "id": "9L0KhPHmJVNa"
      },
      "source": [
        "# Ejercicion de programación - Regresión Logistica\n",
        "\n",
        "En este ejercicio se implementa regresion logistica y se aplica a dos diferentes datasets."
      ]
    },
    {
      "cell_type": "code",
      "source": [
        "from google.colab import drive\n",
        "drive.mount('/content/drive')"
      ],
      "metadata": {
        "colab": {
          "base_uri": "https://localhost:8080/"
        },
        "id": "z5PQZyiqJhUu",
        "outputId": "2229ffb6-09d0-41e4-9ee5-1716c25f7a00"
      },
      "execution_count": 37,
      "outputs": [
        {
          "output_type": "stream",
          "name": "stdout",
          "text": [
            "Drive already mounted at /content/drive; to attempt to forcibly remount, call drive.mount(\"/content/drive\", force_remount=True).\n"
          ]
        }
      ]
    },
    {
      "cell_type": "code",
      "execution_count": 38,
      "metadata": {
        "id": "Eg6cIE74JVNd"
      },
      "outputs": [],
      "source": [
        "# se utiliza para el manejo de rutas y directorios.\n",
        "import os\n",
        "\n",
        "# Calculo cientifico y vectorial para python\n",
        "import numpy as np\n",
        "import pandas as pd\n",
        "\n",
        "# Librerias para graficar\n",
        "from matplotlib import pyplot\n",
        "import matplotlib.pyplot as plt\n",
        "\n",
        "# Modulo de optimización de scipy\n",
        "from scipy import optimize\n",
        "\n",
        "# le dice a matplotlib que incruste gráficos en el cuaderno\n",
        "%matplotlib inline"
      ]
    },
    {
      "cell_type": "markdown",
      "metadata": {
        "id": "t52vBnb_JVNe"
      },
      "source": [
        "## 1 Regresion Logistica\n",
        "\n",
        "En esta parte del ejercicio, creará un modelo de regresión logística para predecir si un estudiante será admitido en una universidad. Suponga que es el administrador de un departamento universitario y desea determinar las posibilidades de admisión de cada solicitante en función de sus resultados en dos exámenes. Tiene datos históricos de solicitantes anteriores que puede usar como un conjunto de capacitación para la regresión logística. Para cada ejemplo de capacitación, se tiene las calificaciones del solicitante en dos exámenes y la decisión de admisión. Su tarea es crear un modelo de clasificación que calcule la probabilidad de admisión de un solicitante en función de los puntajes de esos dos exámenes.\n",
        "\n",
        "La siguiente celda cargará los datos y las etiquetas correspondientes:"
      ]
    },
    {
      "cell_type": "code",
      "execution_count": 39,
      "metadata": {
        "colab": {
          "base_uri": "https://localhost:8080/"
        },
        "id": "WVzUelTXJVNe",
        "outputId": "fdae0985-3d43-46f9-d648-c100aac14744"
      },
      "outputs": [
        {
          "output_type": "stream",
          "name": "stdout",
          "text": [
            "       cap-diameter  cap-shape  gill-attachment  gill-color  stem-height  \\\n",
            "0              1372          2                2          10     3.807467   \n",
            "1              1461          2                2          10     3.807467   \n",
            "2              1371          2                2          10     3.612496   \n",
            "3              1261          6                2          10     3.787572   \n",
            "4              1305          6                2          10     3.711971   \n",
            "...             ...        ...              ...         ...          ...   \n",
            "54030            73          5                3           2     0.887740   \n",
            "54031            82          2                3           2     1.186164   \n",
            "54032            82          5                3           2     0.915593   \n",
            "54033            79          2                3           2     1.034963   \n",
            "54034            72          5                3           2     1.158311   \n",
            "\n",
            "       stem-width  stem-color    season  \n",
            "0            1545          11  1.804273  \n",
            "1            1557          11  1.804273  \n",
            "2            1566          11  1.804273  \n",
            "3            1566          11  1.804273  \n",
            "4            1464          11  0.943195  \n",
            "...           ...         ...       ...  \n",
            "54030         569          12  0.943195  \n",
            "54031         490          12  0.943195  \n",
            "54032         584          12  0.888450  \n",
            "54033         491          12  0.888450  \n",
            "54034         492          12  0.888450  \n",
            "\n",
            "[54035 rows x 8 columns]\n",
            "0        1\n",
            "1        1\n",
            "2        1\n",
            "3        1\n",
            "4        1\n",
            "        ..\n",
            "54030    1\n",
            "54031    1\n",
            "54032    1\n",
            "54033    1\n",
            "54034    1\n",
            "Name: class, Length: 54035, dtype: int64\n",
            "54035\n"
          ]
        }
      ],
      "source": [
        "# Cargar datos\n",
        "# Las dos primeras columnas contienen la nota de dos examenes y la tercera columna\n",
        "# contiene la etiqueta que indica si el alumno ingreso o no a la universidad.\n",
        "data = pd.read_csv('/content/drive/MyDrive/datasets/MisDatasets/mushroom_cleaned.csv')\n",
        "\n",
        "X = data[['cap-diameter', 'cap-shape', 'gill-attachment', 'gill-color', 'stem-height',\n",
        "          'stem-width', 'stem-color', 'season']]\n",
        "y = data['class']\n",
        "\n",
        "m = y.size\n",
        "\n",
        "\n",
        "print(X)\n",
        "print(y)\n",
        "print(m)"
      ]
    },
    {
      "cell_type": "markdown",
      "metadata": {
        "id": "5wAs5p25JVNf"
      },
      "source": [
        "### 1.1 Visualizar los datos\n",
        "\n",
        "Antes de comenzar a implementar cualquier algoritmo de aprendizaje, siempre es bueno visualizar los datos si es posible. Mostramos los datos en una gráfica bidimensional llamando a la función `plotData`. Se completará el código en `plotData` para que muestre una figura donde los ejes son los dos puntajes de los dos examenes, los ejemplos positivos y negativos se muestran con diferentes marcadores."
      ]
    },
    {
      "cell_type": "code",
      "execution_count": 40,
      "metadata": {
        "id": "PU2IfSLdJVNf"
      },
      "outputs": [],
      "source": [
        "def plotMushroomData(X, y):\n",
        "    # Crear una nueva figura\n",
        "    fig = plt.figure()\n",
        "\n",
        "    # Encontrar los índices de los ejemplos comestibles y venenosos\n",
        "    edible = y == 0  # Comestible\n",
        "    poisonous = y == 1  # Venenoso\n",
        "\n",
        "    # Graficar los ejemplos comestibles y venenosos usando .loc para indexar correctamente\n",
        "    plt.scatter(X.loc[edible, 'cap-diameter'], X.loc[edible, 'stem-height'], c='green', marker='o', edgecolor='k', label='Comestible')\n",
        "    plt.scatter(X.loc[poisonous, 'cap-diameter'], X.loc[poisonous, 'stem-height'], c='red', marker='x', edgecolor='k', label='Venenoso')\n",
        "\n",
        "    # Etiquetas de los ejes\n",
        "    plt.xlabel('Diámetro de la tapa')\n",
        "    plt.ylabel('Altura del tallo')\n",
        "    plt.legend(loc='best')\n",
        "    plt.show()\n"
      ]
    },
    {
      "cell_type": "markdown",
      "metadata": {
        "id": "llREAw-3JVNg"
      },
      "source": [
        "Se llama a la función implementada para mostrar los datos cargados:"
      ]
    },
    {
      "cell_type": "code",
      "execution_count": 41,
      "metadata": {
        "colab": {
          "base_uri": "https://localhost:8080/",
          "height": 508
        },
        "id": "8ynW5qI3JVNg",
        "outputId": "3e35b6b2-778d-4f2f-d0d2-c1aea0b6ba31"
      },
      "outputs": [
        {
          "output_type": "stream",
          "name": "stderr",
          "text": [
            "<ipython-input-40-a695f846e5a8>:11: UserWarning: You passed a edgecolor/edgecolors ('k') for an unfilled marker ('x').  Matplotlib is ignoring the edgecolor in favor of the facecolor.  This behavior may change in the future.\n",
            "  plt.scatter(X.loc[poisonous, 'cap-diameter'], X.loc[poisonous, 'stem-height'], c='red', marker='x', edgecolor='k', label='Venenoso')\n"
          ]
        },
        {
          "output_type": "display_data",
          "data": {
            "text/plain": [
              "<Figure size 640x480 with 1 Axes>"
            ],
            "image/png": "[encoded data removed]"
          },
          "metadata": {}
        }
      ],
      "source": [
        "plotMushroomData(X, y)"
      ]
    },
    {
      "cell_type": "markdown",
      "metadata": {
        "id": "Pfpf9aEFJVNg"
      },
      "source": [
        "<a id=\"section1\"></a>\n",
        "### 1.2 Implementacion\n",
        "\n",
        "#### 1.2.1 Fución Sigmoidea\n",
        "\n",
        "La hipotesis para la regresión logistica se define como:\n",
        "\n",
        "$$ h_\\theta(x) = g(\\theta^T x)$$\n",
        "\n",
        "donde la función $g$ is la función sigmoidea. La función sigmoidea se define como:\n",
        "\n",
        "$$g(z) = \\frac{1}{1+e^{-z}}$$.\n",
        "\n",
        "Los resultados que debe generar la funcion sigmoidea para valores positivos amplios de `x`, deben ser cercanos a 1, mientras que para valores negativos grandes, la sigmoide debe generar valores cercanos 0. La evaluacion de `sigmoid(0)` debe dar un resultado exacto de 0.5. Esta funcion tambien debe poder trabajar con vectores y matrices."
      ]
    },
    {
      "cell_type": "code",
      "execution_count": 42,
      "metadata": {
        "id": "pk9dV23xJVNh"
      },
      "outputs": [],
      "source": [
        "def sigmoid(z):\n",
        "    # Calcula la sigmoide de una entrada z\n",
        "    # convierte la intrada a un arreglo numpy\n",
        "    z = np.array(z)\n",
        "\n",
        "    g = np.zeros(z.shape)\n",
        "\n",
        "    g = 1 / (1 + np.exp(-z))\n",
        "\n",
        "    return g"
      ]
    },
    {
      "cell_type": "markdown",
      "metadata": {
        "id": "uRsBEhsWJVNh"
      },
      "source": [
        "Se calcula el valor de la sigmoide aplicando la funcion sigmoid con `z=0`, se debe obtener un resultado de 0.5. RE recomienda experimentar con otros valores de `z`."
      ]
    },
    {
      "cell_type": "code",
      "execution_count": 43,
      "metadata": {
        "colab": {
          "base_uri": "https://localhost:8080/"
        },
        "id": "uIPk61NLJVNh",
        "outputId": "e93b9935-01d1-4d3f-9cf1-7ac09a50fc07"
      },
      "outputs": [
        {
          "output_type": "stream",
          "name": "stdout",
          "text": [
            "g( [0, 0.5, 1] ) =  [0.5        0.62245933 0.73105858]\n"
          ]
        }
      ],
      "source": [
        "# Prueba la implementacion de la funcion sigmoid\n",
        "z = [0, 0.5, 1]\n",
        "g = sigmoid(z)\n",
        "\n",
        "print('g(', z, ') = ', g)"
      ]
    },
    {
      "cell_type": "markdown",
      "metadata": {
        "id": "tDl3_8hvJVNi"
      },
      "source": [
        "<a id=\"section2\"></a>\n",
        "#### 1.2.2 Función de Costo y Gradiente\n",
        "\n",
        "Se implementa la funcion cost y gradient, para la regresión logistica. Antes de continuar es importante agregar el termino de intercepcion a X."
      ]
    },
    {
      "cell_type": "code",
      "execution_count": 44,
      "metadata": {
        "id": "ELtMkiYDJVNi"
      },
      "outputs": [],
      "source": [
        "# Configurar la matriz adecuadamente, y agregar una columna de unos que corresponde al termino de intercepción.\n",
        "m, n = X.shape\n",
        "# Agraga el termino de intercepción a A\n",
        "X = np.concatenate([np.ones((m, 1)), X], axis=1)"
      ]
    },
    {
      "cell_type": "markdown",
      "metadata": {
        "id": "dREHB51mJVNi"
      },
      "source": [
        "La funcion de costo en una regresión logistica es:\n",
        "\n",
        "$$ J(\\theta) = \\frac{1}{m} \\sum_{i=1}^{m} \\left[ -y^{(i)} \\log\\left(h_\\theta\\left( x^{(i)} \\right) \\right) - \\left( 1 - y^{(i)}\\right) \\log \\left( 1 - h_\\theta\\left( x^{(i)} \\right) \\right) \\right]$$\n",
        "\n",
        "y el gradiente del costo es un vector de la misma longitud como $\\theta$ donde el elemento $j^{th}$ (para $j = 0, 1, \\cdots , n$) se define como:\n",
        "\n",
        "$$ \\frac{\\partial J(\\theta)}{\\partial \\theta_j} = \\frac{1}{m} \\sum_{i=1}^m \\left( h_\\theta \\left( x^{(i)} \\right) - y^{(i)} \\right) x_j^{(i)} $$\n",
        "\n",
        "Si bien este gradiente parece idéntico al gradiente de regresión lineal, la fórmula es diferente porque la regresión lineal y logística tienen diferentes definiciones de $h_\\theta(x)$.\n",
        "<a id=\"costFunction\"></a>"
      ]
    },
    {
      "cell_type": "code",
      "execution_count": 45,
      "metadata": {
        "id": "iqDZRIgjJVNi"
      },
      "outputs": [],
      "source": [
        "def calcularCosto(theta, X, y):\n",
        "    # Inicializar algunos valores utiles\n",
        "    m = y.size  # numero de ejemplos de entrenamiento\n",
        "\n",
        "    J = 0\n",
        "    h = sigmoid(X.dot(theta.T))\n",
        "    J = (1 / m) * np.sum(-y.dot(np.log(h)) - (1 - y).dot(np.log(1 - h)))\n",
        "\n",
        "    return J"
      ]
    },
    {
      "cell_type": "code",
      "execution_count": 46,
      "metadata": {
        "id": "7G4SjTrwJVNi"
      },
      "outputs": [],
      "source": [
        "def descensoGradiente(theta, X, y, alpha, num_iters):\n",
        "    # Inicializa algunos valores\n",
        "    m = y.shape[0] # numero de ejemplos de entrenamiento\n",
        "\n",
        "    # realiza una copia de theta, el cual será acutalizada por el descenso por el gradiente\n",
        "    theta = theta.copy()\n",
        "    J_history = []\n",
        "\n",
        "    for i in range(num_iters):\n",
        "        h = sigmoid(X.dot(theta.T))\n",
        "        theta = theta - (alpha / m) * (h - y).dot(X)\n",
        "\n",
        "        J_history.append(calcularCosto(theta, X, y))\n",
        "    return theta, J_history"
      ]
    },
    {
      "cell_type": "code",
      "execution_count": 50,
      "metadata": {
        "scrolled": true,
        "colab": {
          "base_uri": "https://localhost:8080/",
          "height": 1000
        },
        "id": "rBUlehg6JVNi",
        "outputId": "3c24554c-4932-403c-f33f-fb6c7e77a454"
      },
      "outputs": [
        {
          "output_type": "stream",
          "name": "stderr",
          "text": [
            "<ipython-input-42-22f640bc02db>:8: RuntimeWarning: overflow encountered in exp\n",
            "  g = 1 / (1 + np.exp(-z))\n",
            "<ipython-input-45-9bf1ce321844>:7: RuntimeWarning: divide by zero encountered in log\n",
            "  J = (1 / m) * np.sum(-y.dot(np.log(h)) - (1 - y).dot(np.log(1 - h)))\n",
            "<ipython-input-42-22f640bc02db>:8: RuntimeWarning: overflow encountered in exp\n",
            "  g = 1 / (1 + np.exp(-z))\n",
            "<ipython-input-45-9bf1ce321844>:7: RuntimeWarning: divide by zero encountered in log\n",
            "  J = (1 / m) * np.sum(-y.dot(np.log(h)) - (1 - y).dot(np.log(1 - h)))\n",
            "<ipython-input-42-22f640bc02db>:8: RuntimeWarning: overflow encountered in exp\n",
            "  g = 1 / (1 + np.exp(-z))\n",
            "<ipython-input-42-22f640bc02db>:8: RuntimeWarning: overflow encountered in exp\n",
            "  g = 1 / (1 + np.exp(-z))\n",
            "<ipython-input-45-9bf1ce321844>:7: RuntimeWarning: divide by zero encountered in log\n",
            "  J = (1 / m) * np.sum(-y.dot(np.log(h)) - (1 - y).dot(np.log(1 - h)))\n",
            "<ipython-input-42-22f640bc02db>:8: RuntimeWarning: overflow encountered in exp\n",
            "  g = 1 / (1 + np.exp(-z))\n",
            "<ipython-input-42-22f640bc02db>:8: RuntimeWarning: overflow encountered in exp\n",
            "  g = 1 / (1 + np.exp(-z))\n",
            "<ipython-input-45-9bf1ce321844>:7: RuntimeWarning: divide by zero encountered in log\n",
            "  J = (1 / m) * np.sum(-y.dot(np.log(h)) - (1 - y).dot(np.log(1 - h)))\n",
            "<ipython-input-42-22f640bc02db>:8: RuntimeWarning: overflow encountered in exp\n",
            "  g = 1 / (1 + np.exp(-z))\n",
            "<ipython-input-42-22f640bc02db>:8: RuntimeWarning: overflow encountered in exp\n",
            "  g = 1 / (1 + np.exp(-z))\n",
            "<ipython-input-45-9bf1ce321844>:7: RuntimeWarning: divide by zero encountered in log\n",
            "  J = (1 / m) * np.sum(-y.dot(np.log(h)) - (1 - y).dot(np.log(1 - h)))\n",
            "<ipython-input-42-22f640bc02db>:8: RuntimeWarning: overflow encountered in exp\n",
            "  g = 1 / (1 + np.exp(-z))\n",
            "<ipython-input-42-22f640bc02db>:8: RuntimeWarning: overflow encountered in exp\n",
            "  g = 1 / (1 + np.exp(-z))\n",
            "<ipython-input-45-9bf1ce321844>:7: RuntimeWarning: divide by zero encountered in log\n",
            "  J = (1 / m) * np.sum(-y.dot(np.log(h)) - (1 - y).dot(np.log(1 - h)))\n",
            "<ipython-input-42-22f640bc02db>:8: RuntimeWarning: overflow encountered in exp\n",
            "  g = 1 / (1 + np.exp(-z))\n",
            "<ipython-input-42-22f640bc02db>:8: RuntimeWarning: overflow encountered in exp\n",
            "  g = 1 / (1 + np.exp(-z))\n",
            "<ipython-input-45-9bf1ce321844>:7: RuntimeWarning: divide by zero encountered in log\n",
            "  J = (1 / m) * np.sum(-y.dot(np.log(h)) - (1 - y).dot(np.log(1 - h)))\n",
            "<ipython-input-42-22f640bc02db>:8: RuntimeWarning: overflow encountered in exp\n",
            "  g = 1 / (1 + np.exp(-z))\n",
            "<ipython-input-42-22f640bc02db>:8: RuntimeWarning: overflow encountered in exp\n",
            "  g = 1 / (1 + np.exp(-z))\n",
            "<ipython-input-45-9bf1ce321844>:7: RuntimeWarning: divide by zero encountered in log\n",
            "  J = (1 / m) * np.sum(-y.dot(np.log(h)) - (1 - y).dot(np.log(1 - h)))\n",
            "<ipython-input-42-22f640bc02db>:8: RuntimeWarning: overflow encountered in exp\n",
            "  g = 1 / (1 + np.exp(-z))\n",
            "<ipython-input-42-22f640bc02db>:8: RuntimeWarning: overflow encountered in exp\n",
            "  g = 1 / (1 + np.exp(-z))\n",
            "<ipython-input-45-9bf1ce321844>:7: RuntimeWarning: divide by zero encountered in log\n",
            "  J = (1 / m) * np.sum(-y.dot(np.log(h)) - (1 - y).dot(np.log(1 - h)))\n",
            "<ipython-input-42-22f640bc02db>:8: RuntimeWarning: overflow encountered in exp\n",
            "  g = 1 / (1 + np.exp(-z))\n",
            "<ipython-input-42-22f640bc02db>:8: RuntimeWarning: overflow encountered in exp\n",
            "  g = 1 / (1 + np.exp(-z))\n",
            "<ipython-input-45-9bf1ce321844>:7: RuntimeWarning: divide by zero encountered in log\n",
            "  J = (1 / m) * np.sum(-y.dot(np.log(h)) - (1 - y).dot(np.log(1 - h)))\n",
            "<ipython-input-42-22f640bc02db>:8: RuntimeWarning: overflow encountered in exp\n",
            "  g = 1 / (1 + np.exp(-z))\n",
            "<ipython-input-42-22f640bc02db>:8: RuntimeWarning: overflow encountered in exp\n",
            "  g = 1 / (1 + np.exp(-z))\n",
            "<ipython-input-45-9bf1ce321844>:7: RuntimeWarning: divide by zero encountered in log\n",
            "  J = (1 / m) * np.sum(-y.dot(np.log(h)) - (1 - y).dot(np.log(1 - h)))\n",
            "<ipython-input-42-22f640bc02db>:8: RuntimeWarning: overflow encountered in exp\n",
            "  g = 1 / (1 + np.exp(-z))\n",
            "<ipython-input-42-22f640bc02db>:8: RuntimeWarning: overflow encountered in exp\n",
            "  g = 1 / (1 + np.exp(-z))\n",
            "<ipython-input-45-9bf1ce321844>:7: RuntimeWarning: divide by zero encountered in log\n",
            "  J = (1 / m) * np.sum(-y.dot(np.log(h)) - (1 - y).dot(np.log(1 - h)))\n",
            "<ipython-input-42-22f640bc02db>:8: RuntimeWarning: overflow encountered in exp\n",
            "  g = 1 / (1 + np.exp(-z))\n",
            "<ipython-input-42-22f640bc02db>:8: RuntimeWarning: overflow encountered in exp\n",
            "  g = 1 / (1 + np.exp(-z))\n",
            "<ipython-input-45-9bf1ce321844>:7: RuntimeWarning: divide by zero encountered in log\n",
            "  J = (1 / m) * np.sum(-y.dot(np.log(h)) - (1 - y).dot(np.log(1 - h)))\n",
            "<ipython-input-42-22f640bc02db>:8: RuntimeWarning: overflow encountered in exp\n",
            "  g = 1 / (1 + np.exp(-z))\n",
            "<ipython-input-42-22f640bc02db>:8: RuntimeWarning: overflow encountered in exp\n",
            "  g = 1 / (1 + np.exp(-z))\n",
            "<ipython-input-45-9bf1ce321844>:7: RuntimeWarning: divide by zero encountered in log\n",
            "  J = (1 / m) * np.sum(-y.dot(np.log(h)) - (1 - y).dot(np.log(1 - h)))\n",
            "<ipython-input-42-22f640bc02db>:8: RuntimeWarning: overflow encountered in exp\n",
            "  g = 1 / (1 + np.exp(-z))\n",
            "<ipython-input-42-22f640bc02db>:8: RuntimeWarning: overflow encountered in exp\n",
            "  g = 1 / (1 + np.exp(-z))\n",
            "<ipython-input-45-9bf1ce321844>:7: RuntimeWarning: divide by zero encountered in log\n",
            "  J = (1 / m) * np.sum(-y.dot(np.log(h)) - (1 - y).dot(np.log(1 - h)))\n",
            "<ipython-input-42-22f640bc02db>:8: RuntimeWarning: overflow encountered in exp\n",
            "  g = 1 / (1 + np.exp(-z))\n",
            "<ipython-input-42-22f640bc02db>:8: RuntimeWarning: overflow encountered in exp\n",
            "  g = 1 / (1 + np.exp(-z))\n",
            "<ipython-input-45-9bf1ce321844>:7: RuntimeWarning: divide by zero encountered in log\n",
            "  J = (1 / m) * np.sum(-y.dot(np.log(h)) - (1 - y).dot(np.log(1 - h)))\n",
            "<ipython-input-45-9bf1ce321844>:7: RuntimeWarning: divide by zero encountered in log\n",
            "  J = (1 / m) * np.sum(-y.dot(np.log(h)) - (1 - y).dot(np.log(1 - h)))\n",
            "<ipython-input-42-22f640bc02db>:8: RuntimeWarning: overflow encountered in exp\n",
            "  g = 1 / (1 + np.exp(-z))\n",
            "<ipython-input-42-22f640bc02db>:8: RuntimeWarning: overflow encountered in exp\n",
            "  g = 1 / (1 + np.exp(-z))\n",
            "<ipython-input-45-9bf1ce321844>:7: RuntimeWarning: divide by zero encountered in log\n",
            "  J = (1 / m) * np.sum(-y.dot(np.log(h)) - (1 - y).dot(np.log(1 - h)))\n",
            "<ipython-input-45-9bf1ce321844>:7: RuntimeWarning: divide by zero encountered in log\n",
            "  J = (1 / m) * np.sum(-y.dot(np.log(h)) - (1 - y).dot(np.log(1 - h)))\n",
            "<ipython-input-42-22f640bc02db>:8: RuntimeWarning: overflow encountered in exp\n",
            "  g = 1 / (1 + np.exp(-z))\n",
            "<ipython-input-42-22f640bc02db>:8: RuntimeWarning: overflow encountered in exp\n",
            "  g = 1 / (1 + np.exp(-z))\n",
            "<ipython-input-45-9bf1ce321844>:7: RuntimeWarning: divide by zero encountered in log\n",
            "  J = (1 / m) * np.sum(-y.dot(np.log(h)) - (1 - y).dot(np.log(1 - h)))\n",
            "<ipython-input-45-9bf1ce321844>:7: RuntimeWarning: divide by zero encountered in log\n",
            "  J = (1 / m) * np.sum(-y.dot(np.log(h)) - (1 - y).dot(np.log(1 - h)))\n",
            "<ipython-input-42-22f640bc02db>:8: RuntimeWarning: overflow encountered in exp\n",
            "  g = 1 / (1 + np.exp(-z))\n",
            "<ipython-input-42-22f640bc02db>:8: RuntimeWarning: overflow encountered in exp\n",
            "  g = 1 / (1 + np.exp(-z))\n",
            "<ipython-input-45-9bf1ce321844>:7: RuntimeWarning: divide by zero encountered in log\n",
            "  J = (1 / m) * np.sum(-y.dot(np.log(h)) - (1 - y).dot(np.log(1 - h)))\n",
            "<ipython-input-45-9bf1ce321844>:7: RuntimeWarning: divide by zero encountered in log\n",
            "  J = (1 / m) * np.sum(-y.dot(np.log(h)) - (1 - y).dot(np.log(1 - h)))\n",
            "<ipython-input-42-22f640bc02db>:8: RuntimeWarning: overflow encountered in exp\n",
            "  g = 1 / (1 + np.exp(-z))\n",
            "<ipython-input-42-22f640bc02db>:8: RuntimeWarning: overflow encountered in exp\n",
            "  g = 1 / (1 + np.exp(-z))\n",
            "<ipython-input-45-9bf1ce321844>:7: RuntimeWarning: divide by zero encountered in log\n",
            "  J = (1 / m) * np.sum(-y.dot(np.log(h)) - (1 - y).dot(np.log(1 - h)))\n",
            "<ipython-input-45-9bf1ce321844>:7: RuntimeWarning: divide by zero encountered in log\n",
            "  J = (1 / m) * np.sum(-y.dot(np.log(h)) - (1 - y).dot(np.log(1 - h)))\n",
            "<ipython-input-42-22f640bc02db>:8: RuntimeWarning: overflow encountered in exp\n",
            "  g = 1 / (1 + np.exp(-z))\n",
            "<ipython-input-42-22f640bc02db>:8: RuntimeWarning: overflow encountered in exp\n",
            "  g = 1 / (1 + np.exp(-z))\n",
            "<ipython-input-45-9bf1ce321844>:7: RuntimeWarning: divide by zero encountered in log\n",
            "  J = (1 / m) * np.sum(-y.dot(np.log(h)) - (1 - y).dot(np.log(1 - h)))\n",
            "<ipython-input-45-9bf1ce321844>:7: RuntimeWarning: divide by zero encountered in log\n",
            "  J = (1 / m) * np.sum(-y.dot(np.log(h)) - (1 - y).dot(np.log(1 - h)))\n",
            "<ipython-input-42-22f640bc02db>:8: RuntimeWarning: overflow encountered in exp\n",
            "  g = 1 / (1 + np.exp(-z))\n",
            "<ipython-input-42-22f640bc02db>:8: RuntimeWarning: overflow encountered in exp\n",
            "  g = 1 / (1 + np.exp(-z))\n",
            "<ipython-input-45-9bf1ce321844>:7: RuntimeWarning: divide by zero encountered in log\n",
            "  J = (1 / m) * np.sum(-y.dot(np.log(h)) - (1 - y).dot(np.log(1 - h)))\n",
            "<ipython-input-45-9bf1ce321844>:7: RuntimeWarning: divide by zero encountered in log\n",
            "  J = (1 / m) * np.sum(-y.dot(np.log(h)) - (1 - y).dot(np.log(1 - h)))\n",
            "<ipython-input-42-22f640bc02db>:8: RuntimeWarning: overflow encountered in exp\n",
            "  g = 1 / (1 + np.exp(-z))\n",
            "<ipython-input-42-22f640bc02db>:8: RuntimeWarning: overflow encountered in exp\n",
            "  g = 1 / (1 + np.exp(-z))\n",
            "<ipython-input-45-9bf1ce321844>:7: RuntimeWarning: divide by zero encountered in log\n",
            "  J = (1 / m) * np.sum(-y.dot(np.log(h)) - (1 - y).dot(np.log(1 - h)))\n",
            "<ipython-input-45-9bf1ce321844>:7: RuntimeWarning: divide by zero encountered in log\n",
            "  J = (1 / m) * np.sum(-y.dot(np.log(h)) - (1 - y).dot(np.log(1 - h)))\n",
            "<ipython-input-42-22f640bc02db>:8: RuntimeWarning: overflow encountered in exp\n",
            "  g = 1 / (1 + np.exp(-z))\n",
            "<ipython-input-42-22f640bc02db>:8: RuntimeWarning: overflow encountered in exp\n",
            "  g = 1 / (1 + np.exp(-z))\n",
            "<ipython-input-45-9bf1ce321844>:7: RuntimeWarning: divide by zero encountered in log\n",
            "  J = (1 / m) * np.sum(-y.dot(np.log(h)) - (1 - y).dot(np.log(1 - h)))\n",
            "<ipython-input-45-9bf1ce321844>:7: RuntimeWarning: divide by zero encountered in log\n",
            "  J = (1 / m) * np.sum(-y.dot(np.log(h)) - (1 - y).dot(np.log(1 - h)))\n",
            "<ipython-input-42-22f640bc02db>:8: RuntimeWarning: overflow encountered in exp\n",
            "  g = 1 / (1 + np.exp(-z))\n",
            "<ipython-input-42-22f640bc02db>:8: RuntimeWarning: overflow encountered in exp\n",
            "  g = 1 / (1 + np.exp(-z))\n",
            "<ipython-input-45-9bf1ce321844>:7: RuntimeWarning: divide by zero encountered in log\n",
            "  J = (1 / m) * np.sum(-y.dot(np.log(h)) - (1 - y).dot(np.log(1 - h)))\n",
            "<ipython-input-45-9bf1ce321844>:7: RuntimeWarning: divide by zero encountered in log\n",
            "  J = (1 / m) * np.sum(-y.dot(np.log(h)) - (1 - y).dot(np.log(1 - h)))\n",
            "<ipython-input-42-22f640bc02db>:8: RuntimeWarning: overflow encountered in exp\n",
            "  g = 1 / (1 + np.exp(-z))\n",
            "<ipython-input-42-22f640bc02db>:8: RuntimeWarning: overflow encountered in exp\n",
            "  g = 1 / (1 + np.exp(-z))\n",
            "<ipython-input-45-9bf1ce321844>:7: RuntimeWarning: divide by zero encountered in log\n",
            "  J = (1 / m) * np.sum(-y.dot(np.log(h)) - (1 - y).dot(np.log(1 - h)))\n",
            "<ipython-input-45-9bf1ce321844>:7: RuntimeWarning: divide by zero encountered in log\n",
            "  J = (1 / m) * np.sum(-y.dot(np.log(h)) - (1 - y).dot(np.log(1 - h)))\n",
            "<ipython-input-42-22f640bc02db>:8: RuntimeWarning: overflow encountered in exp\n",
            "  g = 1 / (1 + np.exp(-z))\n",
            "<ipython-input-42-22f640bc02db>:8: RuntimeWarning: overflow encountered in exp\n",
            "  g = 1 / (1 + np.exp(-z))\n",
            "<ipython-input-45-9bf1ce321844>:7: RuntimeWarning: divide by zero encountered in log\n",
            "  J = (1 / m) * np.sum(-y.dot(np.log(h)) - (1 - y).dot(np.log(1 - h)))\n",
            "<ipython-input-45-9bf1ce321844>:7: RuntimeWarning: divide by zero encountered in log\n",
            "  J = (1 / m) * np.sum(-y.dot(np.log(h)) - (1 - y).dot(np.log(1 - h)))\n",
            "<ipython-input-42-22f640bc02db>:8: RuntimeWarning: overflow encountered in exp\n",
            "  g = 1 / (1 + np.exp(-z))\n",
            "<ipython-input-42-22f640bc02db>:8: RuntimeWarning: overflow encountered in exp\n",
            "  g = 1 / (1 + np.exp(-z))\n",
            "<ipython-input-45-9bf1ce321844>:7: RuntimeWarning: divide by zero encountered in log\n",
            "  J = (1 / m) * np.sum(-y.dot(np.log(h)) - (1 - y).dot(np.log(1 - h)))\n",
            "<ipython-input-45-9bf1ce321844>:7: RuntimeWarning: divide by zero encountered in log\n",
            "  J = (1 / m) * np.sum(-y.dot(np.log(h)) - (1 - y).dot(np.log(1 - h)))\n",
            "<ipython-input-42-22f640bc02db>:8: RuntimeWarning: overflow encountered in exp\n",
            "  g = 1 / (1 + np.exp(-z))\n",
            "<ipython-input-42-22f640bc02db>:8: RuntimeWarning: overflow encountered in exp\n",
            "  g = 1 / (1 + np.exp(-z))\n",
            "<ipython-input-45-9bf1ce321844>:7: RuntimeWarning: divide by zero encountered in log\n",
            "  J = (1 / m) * np.sum(-y.dot(np.log(h)) - (1 - y).dot(np.log(1 - h)))\n",
            "<ipython-input-45-9bf1ce321844>:7: RuntimeWarning: divide by zero encountered in log\n",
            "  J = (1 / m) * np.sum(-y.dot(np.log(h)) - (1 - y).dot(np.log(1 - h)))\n",
            "<ipython-input-42-22f640bc02db>:8: RuntimeWarning: overflow encountered in exp\n",
            "  g = 1 / (1 + np.exp(-z))\n",
            "<ipython-input-42-22f640bc02db>:8: RuntimeWarning: overflow encountered in exp\n",
            "  g = 1 / (1 + np.exp(-z))\n",
            "<ipython-input-45-9bf1ce321844>:7: RuntimeWarning: divide by zero encountered in log\n",
            "  J = (1 / m) * np.sum(-y.dot(np.log(h)) - (1 - y).dot(np.log(1 - h)))\n",
            "<ipython-input-45-9bf1ce321844>:7: RuntimeWarning: divide by zero encountered in log\n",
            "  J = (1 / m) * np.sum(-y.dot(np.log(h)) - (1 - y).dot(np.log(1 - h)))\n",
            "<ipython-input-42-22f640bc02db>:8: RuntimeWarning: overflow encountered in exp\n",
            "  g = 1 / (1 + np.exp(-z))\n",
            "<ipython-input-42-22f640bc02db>:8: RuntimeWarning: overflow encountered in exp\n",
            "  g = 1 / (1 + np.exp(-z))\n",
            "<ipython-input-45-9bf1ce321844>:7: RuntimeWarning: divide by zero encountered in log\n",
            "  J = (1 / m) * np.sum(-y.dot(np.log(h)) - (1 - y).dot(np.log(1 - h)))\n",
            "<ipython-input-45-9bf1ce321844>:7: RuntimeWarning: divide by zero encountered in log\n",
            "  J = (1 / m) * np.sum(-y.dot(np.log(h)) - (1 - y).dot(np.log(1 - h)))\n",
            "<ipython-input-42-22f640bc02db>:8: RuntimeWarning: overflow encountered in exp\n",
            "  g = 1 / (1 + np.exp(-z))\n",
            "<ipython-input-42-22f640bc02db>:8: RuntimeWarning: overflow encountered in exp\n",
            "  g = 1 / (1 + np.exp(-z))\n",
            "<ipython-input-45-9bf1ce321844>:7: RuntimeWarning: divide by zero encountered in log\n",
            "  J = (1 / m) * np.sum(-y.dot(np.log(h)) - (1 - y).dot(np.log(1 - h)))\n",
            "<ipython-input-45-9bf1ce321844>:7: RuntimeWarning: divide by zero encountered in log\n",
            "  J = (1 / m) * np.sum(-y.dot(np.log(h)) - (1 - y).dot(np.log(1 - h)))\n",
            "<ipython-input-42-22f640bc02db>:8: RuntimeWarning: overflow encountered in exp\n",
            "  g = 1 / (1 + np.exp(-z))\n",
            "<ipython-input-42-22f640bc02db>:8: RuntimeWarning: overflow encountered in exp\n",
            "  g = 1 / (1 + np.exp(-z))\n",
            "<ipython-input-45-9bf1ce321844>:7: RuntimeWarning: divide by zero encountered in log\n",
            "  J = (1 / m) * np.sum(-y.dot(np.log(h)) - (1 - y).dot(np.log(1 - h)))\n",
            "<ipython-input-45-9bf1ce321844>:7: RuntimeWarning: divide by zero encountered in log\n",
            "  J = (1 / m) * np.sum(-y.dot(np.log(h)) - (1 - y).dot(np.log(1 - h)))\n",
            "<ipython-input-42-22f640bc02db>:8: RuntimeWarning: overflow encountered in exp\n",
            "  g = 1 / (1 + np.exp(-z))\n",
            "<ipython-input-42-22f640bc02db>:8: RuntimeWarning: overflow encountered in exp\n",
            "  g = 1 / (1 + np.exp(-z))\n",
            "<ipython-input-45-9bf1ce321844>:7: RuntimeWarning: divide by zero encountered in log\n",
            "  J = (1 / m) * np.sum(-y.dot(np.log(h)) - (1 - y).dot(np.log(1 - h)))\n",
            "<ipython-input-45-9bf1ce321844>:7: RuntimeWarning: divide by zero encountered in log\n",
            "  J = (1 / m) * np.sum(-y.dot(np.log(h)) - (1 - y).dot(np.log(1 - h)))\n",
            "<ipython-input-42-22f640bc02db>:8: RuntimeWarning: overflow encountered in exp\n",
            "  g = 1 / (1 + np.exp(-z))\n",
            "<ipython-input-42-22f640bc02db>:8: RuntimeWarning: overflow encountered in exp\n",
            "  g = 1 / (1 + np.exp(-z))\n",
            "<ipython-input-45-9bf1ce321844>:7: RuntimeWarning: divide by zero encountered in log\n",
            "  J = (1 / m) * np.sum(-y.dot(np.log(h)) - (1 - y).dot(np.log(1 - h)))\n",
            "<ipython-input-45-9bf1ce321844>:7: RuntimeWarning: divide by zero encountered in log\n",
            "  J = (1 / m) * np.sum(-y.dot(np.log(h)) - (1 - y).dot(np.log(1 - h)))\n",
            "<ipython-input-42-22f640bc02db>:8: RuntimeWarning: overflow encountered in exp\n",
            "  g = 1 / (1 + np.exp(-z))\n",
            "<ipython-input-42-22f640bc02db>:8: RuntimeWarning: overflow encountered in exp\n",
            "  g = 1 / (1 + np.exp(-z))\n",
            "<ipython-input-45-9bf1ce321844>:7: RuntimeWarning: divide by zero encountered in log\n",
            "  J = (1 / m) * np.sum(-y.dot(np.log(h)) - (1 - y).dot(np.log(1 - h)))\n",
            "<ipython-input-45-9bf1ce321844>:7: RuntimeWarning: divide by zero encountered in log\n",
            "  J = (1 / m) * np.sum(-y.dot(np.log(h)) - (1 - y).dot(np.log(1 - h)))\n",
            "<ipython-input-42-22f640bc02db>:8: RuntimeWarning: overflow encountered in exp\n",
            "  g = 1 / (1 + np.exp(-z))\n",
            "<ipython-input-42-22f640bc02db>:8: RuntimeWarning: overflow encountered in exp\n",
            "  g = 1 / (1 + np.exp(-z))\n",
            "<ipython-input-45-9bf1ce321844>:7: RuntimeWarning: divide by zero encountered in log\n",
            "  J = (1 / m) * np.sum(-y.dot(np.log(h)) - (1 - y).dot(np.log(1 - h)))\n",
            "<ipython-input-45-9bf1ce321844>:7: RuntimeWarning: divide by zero encountered in log\n",
            "  J = (1 / m) * np.sum(-y.dot(np.log(h)) - (1 - y).dot(np.log(1 - h)))\n",
            "<ipython-input-42-22f640bc02db>:8: RuntimeWarning: overflow encountered in exp\n",
            "  g = 1 / (1 + np.exp(-z))\n",
            "<ipython-input-42-22f640bc02db>:8: RuntimeWarning: overflow encountered in exp\n",
            "  g = 1 / (1 + np.exp(-z))\n",
            "<ipython-input-45-9bf1ce321844>:7: RuntimeWarning: divide by zero encountered in log\n",
            "  J = (1 / m) * np.sum(-y.dot(np.log(h)) - (1 - y).dot(np.log(1 - h)))\n",
            "<ipython-input-45-9bf1ce321844>:7: RuntimeWarning: divide by zero encountered in log\n",
            "  J = (1 / m) * np.sum(-y.dot(np.log(h)) - (1 - y).dot(np.log(1 - h)))\n",
            "<ipython-input-42-22f640bc02db>:8: RuntimeWarning: overflow encountered in exp\n",
            "  g = 1 / (1 + np.exp(-z))\n",
            "<ipython-input-42-22f640bc02db>:8: RuntimeWarning: overflow encountered in exp\n",
            "  g = 1 / (1 + np.exp(-z))\n",
            "<ipython-input-45-9bf1ce321844>:7: RuntimeWarning: divide by zero encountered in log\n",
            "  J = (1 / m) * np.sum(-y.dot(np.log(h)) - (1 - y).dot(np.log(1 - h)))\n",
            "<ipython-input-45-9bf1ce321844>:7: RuntimeWarning: divide by zero encountered in log\n",
            "  J = (1 / m) * np.sum(-y.dot(np.log(h)) - (1 - y).dot(np.log(1 - h)))\n",
            "<ipython-input-42-22f640bc02db>:8: RuntimeWarning: overflow encountered in exp\n",
            "  g = 1 / (1 + np.exp(-z))\n",
            "<ipython-input-42-22f640bc02db>:8: RuntimeWarning: overflow encountered in exp\n",
            "  g = 1 / (1 + np.exp(-z))\n",
            "<ipython-input-45-9bf1ce321844>:7: RuntimeWarning: divide by zero encountered in log\n",
            "  J = (1 / m) * np.sum(-y.dot(np.log(h)) - (1 - y).dot(np.log(1 - h)))\n",
            "<ipython-input-45-9bf1ce321844>:7: RuntimeWarning: divide by zero encountered in log\n",
            "  J = (1 / m) * np.sum(-y.dot(np.log(h)) - (1 - y).dot(np.log(1 - h)))\n",
            "<ipython-input-42-22f640bc02db>:8: RuntimeWarning: overflow encountered in exp\n",
            "  g = 1 / (1 + np.exp(-z))\n",
            "<ipython-input-42-22f640bc02db>:8: RuntimeWarning: overflow encountered in exp\n",
            "  g = 1 / (1 + np.exp(-z))\n",
            "<ipython-input-45-9bf1ce321844>:7: RuntimeWarning: divide by zero encountered in log\n",
            "  J = (1 / m) * np.sum(-y.dot(np.log(h)) - (1 - y).dot(np.log(1 - h)))\n",
            "<ipython-input-45-9bf1ce321844>:7: RuntimeWarning: divide by zero encountered in log\n",
            "  J = (1 / m) * np.sum(-y.dot(np.log(h)) - (1 - y).dot(np.log(1 - h)))\n",
            "<ipython-input-42-22f640bc02db>:8: RuntimeWarning: overflow encountered in exp\n",
            "  g = 1 / (1 + np.exp(-z))\n",
            "<ipython-input-42-22f640bc02db>:8: RuntimeWarning: overflow encountered in exp\n",
            "  g = 1 / (1 + np.exp(-z))\n",
            "<ipython-input-45-9bf1ce321844>:7: RuntimeWarning: divide by zero encountered in log\n",
            "  J = (1 / m) * np.sum(-y.dot(np.log(h)) - (1 - y).dot(np.log(1 - h)))\n",
            "<ipython-input-45-9bf1ce321844>:7: RuntimeWarning: divide by zero encountered in log\n",
            "  J = (1 / m) * np.sum(-y.dot(np.log(h)) - (1 - y).dot(np.log(1 - h)))\n",
            "<ipython-input-42-22f640bc02db>:8: RuntimeWarning: overflow encountered in exp\n",
            "  g = 1 / (1 + np.exp(-z))\n",
            "<ipython-input-42-22f640bc02db>:8: RuntimeWarning: overflow encountered in exp\n",
            "  g = 1 / (1 + np.exp(-z))\n",
            "<ipython-input-45-9bf1ce321844>:7: RuntimeWarning: divide by zero encountered in log\n",
            "  J = (1 / m) * np.sum(-y.dot(np.log(h)) - (1 - y).dot(np.log(1 - h)))\n",
            "<ipython-input-45-9bf1ce321844>:7: RuntimeWarning: divide by zero encountered in log\n",
            "  J = (1 / m) * np.sum(-y.dot(np.log(h)) - (1 - y).dot(np.log(1 - h)))\n",
            "<ipython-input-42-22f640bc02db>:8: RuntimeWarning: overflow encountered in exp\n",
            "  g = 1 / (1 + np.exp(-z))\n",
            "<ipython-input-42-22f640bc02db>:8: RuntimeWarning: overflow encountered in exp\n",
            "  g = 1 / (1 + np.exp(-z))\n",
            "<ipython-input-45-9bf1ce321844>:7: RuntimeWarning: divide by zero encountered in log\n",
            "  J = (1 / m) * np.sum(-y.dot(np.log(h)) - (1 - y).dot(np.log(1 - h)))\n",
            "<ipython-input-45-9bf1ce321844>:7: RuntimeWarning: divide by zero encountered in log\n",
            "  J = (1 / m) * np.sum(-y.dot(np.log(h)) - (1 - y).dot(np.log(1 - h)))\n",
            "<ipython-input-42-22f640bc02db>:8: RuntimeWarning: overflow encountered in exp\n",
            "  g = 1 / (1 + np.exp(-z))\n",
            "<ipython-input-42-22f640bc02db>:8: RuntimeWarning: overflow encountered in exp\n",
            "  g = 1 / (1 + np.exp(-z))\n",
            "<ipython-input-45-9bf1ce321844>:7: RuntimeWarning: divide by zero encountered in log\n",
            "  J = (1 / m) * np.sum(-y.dot(np.log(h)) - (1 - y).dot(np.log(1 - h)))\n",
            "<ipython-input-45-9bf1ce321844>:7: RuntimeWarning: divide by zero encountered in log\n",
            "  J = (1 / m) * np.sum(-y.dot(np.log(h)) - (1 - y).dot(np.log(1 - h)))\n",
            "<ipython-input-42-22f640bc02db>:8: RuntimeWarning: overflow encountered in exp\n",
            "  g = 1 / (1 + np.exp(-z))\n",
            "<ipython-input-42-22f640bc02db>:8: RuntimeWarning: overflow encountered in exp\n",
            "  g = 1 / (1 + np.exp(-z))\n",
            "<ipython-input-45-9bf1ce321844>:7: RuntimeWarning: divide by zero encountered in log\n",
            "  J = (1 / m) * np.sum(-y.dot(np.log(h)) - (1 - y).dot(np.log(1 - h)))\n",
            "<ipython-input-45-9bf1ce321844>:7: RuntimeWarning: divide by zero encountered in log\n",
            "  J = (1 / m) * np.sum(-y.dot(np.log(h)) - (1 - y).dot(np.log(1 - h)))\n",
            "<ipython-input-42-22f640bc02db>:8: RuntimeWarning: overflow encountered in exp\n",
            "  g = 1 / (1 + np.exp(-z))\n",
            "<ipython-input-42-22f640bc02db>:8: RuntimeWarning: overflow encountered in exp\n",
            "  g = 1 / (1 + np.exp(-z))\n",
            "<ipython-input-45-9bf1ce321844>:7: RuntimeWarning: divide by zero encountered in log\n",
            "  J = (1 / m) * np.sum(-y.dot(np.log(h)) - (1 - y).dot(np.log(1 - h)))\n",
            "<ipython-input-45-9bf1ce321844>:7: RuntimeWarning: divide by zero encountered in log\n",
            "  J = (1 / m) * np.sum(-y.dot(np.log(h)) - (1 - y).dot(np.log(1 - h)))\n",
            "<ipython-input-42-22f640bc02db>:8: RuntimeWarning: overflow encountered in exp\n",
            "  g = 1 / (1 + np.exp(-z))\n",
            "<ipython-input-42-22f640bc02db>:8: RuntimeWarning: overflow encountered in exp\n",
            "  g = 1 / (1 + np.exp(-z))\n",
            "<ipython-input-45-9bf1ce321844>:7: RuntimeWarning: divide by zero encountered in log\n",
            "  J = (1 / m) * np.sum(-y.dot(np.log(h)) - (1 - y).dot(np.log(1 - h)))\n",
            "<ipython-input-45-9bf1ce321844>:7: RuntimeWarning: divide by zero encountered in log\n",
            "  J = (1 / m) * np.sum(-y.dot(np.log(h)) - (1 - y).dot(np.log(1 - h)))\n",
            "<ipython-input-42-22f640bc02db>:8: RuntimeWarning: overflow encountered in exp\n",
            "  g = 1 / (1 + np.exp(-z))\n",
            "<ipython-input-42-22f640bc02db>:8: RuntimeWarning: overflow encountered in exp\n",
            "  g = 1 / (1 + np.exp(-z))\n",
            "<ipython-input-45-9bf1ce321844>:7: RuntimeWarning: divide by zero encountered in log\n",
            "  J = (1 / m) * np.sum(-y.dot(np.log(h)) - (1 - y).dot(np.log(1 - h)))\n",
            "<ipython-input-45-9bf1ce321844>:7: RuntimeWarning: divide by zero encountered in log\n",
            "  J = (1 / m) * np.sum(-y.dot(np.log(h)) - (1 - y).dot(np.log(1 - h)))\n",
            "<ipython-input-42-22f640bc02db>:8: RuntimeWarning: overflow encountered in exp\n",
            "  g = 1 / (1 + np.exp(-z))\n",
            "<ipython-input-42-22f640bc02db>:8: RuntimeWarning: overflow encountered in exp\n",
            "  g = 1 / (1 + np.exp(-z))\n",
            "<ipython-input-45-9bf1ce321844>:7: RuntimeWarning: divide by zero encountered in log\n",
            "  J = (1 / m) * np.sum(-y.dot(np.log(h)) - (1 - y).dot(np.log(1 - h)))\n",
            "<ipython-input-45-9bf1ce321844>:7: RuntimeWarning: divide by zero encountered in log\n",
            "  J = (1 / m) * np.sum(-y.dot(np.log(h)) - (1 - y).dot(np.log(1 - h)))\n",
            "<ipython-input-42-22f640bc02db>:8: RuntimeWarning: overflow encountered in exp\n",
            "  g = 1 / (1 + np.exp(-z))\n",
            "<ipython-input-42-22f640bc02db>:8: RuntimeWarning: overflow encountered in exp\n",
            "  g = 1 / (1 + np.exp(-z))\n",
            "<ipython-input-45-9bf1ce321844>:7: RuntimeWarning: divide by zero encountered in log\n",
            "  J = (1 / m) * np.sum(-y.dot(np.log(h)) - (1 - y).dot(np.log(1 - h)))\n",
            "<ipython-input-45-9bf1ce321844>:7: RuntimeWarning: divide by zero encountered in log\n",
            "  J = (1 / m) * np.sum(-y.dot(np.log(h)) - (1 - y).dot(np.log(1 - h)))\n"
          ]
        },
        {
          "output_type": "stream",
          "name": "stdout",
          "text": [
            "theta calculado por el descenso por el gradiente: [ 0.06124574  2.75764724  0.09773801  0.07950338  0.31345396  0.10436196\n",
            " -0.66824136  0.32015437  0.04457159]\n",
            "Probabilidad de ser comestible: 1.000\n"
          ]
        },
        {
          "output_type": "display_data",
          "data": {
            "text/plain": [
              "<Figure size 640x480 with 1 Axes>"
            ],
            "image/png": "[encoded data removed]"
          },
          "metadata": {}
        }
      ],
      "source": [
        "# Elegir algun valor para alpha (probar varias alternativas)\n",
        "alpha = 0.01\n",
        "num_iters = 100\n",
        "\n",
        "# inicializa theta y ejecuta el descenso por el gradiente\n",
        "# theta = np.zeros(1)\n",
        "\n",
        "# X = np.hstack([np.ones((X.shape[0], 1)), X])  # Añade una columna de unos a X\n",
        "theta = np.zeros(X.shape[1])\n",
        "\n",
        "theta, J_history = descensoGradiente(theta, X, y, alpha, num_iters)\n",
        "\n",
        "# Grafica la convergencia del costo\n",
        "pyplot.plot(np.arange(len(J_history)), J_history, lw=2)\n",
        "pyplot.xlabel('Numero de iteraciones')\n",
        "pyplot.ylabel('Costo J')\n",
        "\n",
        "# Muestra los resultados del descenso por el gradiente\n",
        "print('theta calculado por el descenso por el gradiente: {:s}'.format(str(theta)))\n",
        "\n",
        "# verificar si ingresa o no a la universidad\n",
        "X_array = [1, 1372, 2, 2, 10, 3.8074667544799388, 1545, 11, 1.8042727086281731]\n",
        "comestible = sigmoid(np.dot(X_array, theta))   # Se debe cambiar esto\n",
        "\n",
        "print(f'Probabilidad de ser comestible: {comestible:.3f}')"
      ]
    },
    {
      "cell_type": "code",
      "source": [
        "X_array = [1, 1372, 2, 2, 10, 3.8074667544799388, 1545, 11, 1.8042727086281731]\n",
        "y_predicted = sigmoid(np.dot(X_array, theta))\n",
        "print('Probabilidad de ser comestible:{:.0f}'.format(y_predicted))"
      ],
      "metadata": {
        "id": "OCMi6DgUjA0O",
        "colab": {
          "base_uri": "https://localhost:8080/"
        },
        "outputId": "4dff9918-eab4-43ec-bd89-79ed6ba89b99"
      },
      "execution_count": 56,
      "outputs": [
        {
          "output_type": "stream",
          "name": "stdout",
          "text": [
            "Probabilidad de ser comestible:1\n"
          ]
        }
      ]
    },
    {
      "cell_type": "code",
      "execution_count": 57,
      "metadata": {
        "id": "C2Qew-sRJVNj"
      },
      "outputs": [],
      "source": [
        "def costFunction(theta, X, y):\n",
        "    # Inicializar algunos valores utiles\n",
        "    m = y.size  # numero de ejemplos de entrenamiento\n",
        "\n",
        "    J = 0\n",
        "    grad = np.zeros(theta.shape)\n",
        "\n",
        "    h = sigmoid(X.dot(theta.T))\n",
        "\n",
        "    J = (1 / m) * np.sum(-y.dot(np.log(h)) - (1 - y).dot(np.log(1 - h)))\n",
        "    grad = (1 / m) * (h - y).dot(X)\n",
        "\n",
        "    return J, grad"
      ]
    },
    {
      "cell_type": "markdown",
      "metadata": {
        "id": "1ioLXhR5JVNj"
      },
      "source": [
        "Se prueba la funcion `costFunction` utilizando dos casos de prueba para $\\theta$."
      ]
    },
    {
      "cell_type": "code",
      "execution_count": 58,
      "metadata": {
        "id": "j7Fe_xEZJVNj",
        "colab": {
          "base_uri": "https://localhost:8080/"
        },
        "outputId": "80171e72-fc63-4ced-aae3-9b54525c096a"
      },
      "outputs": [
        {
          "output_type": "stream",
          "name": "stdout",
          "text": [
            "[0. 0. 0. 0. 0. 0. 0. 0. 0.]\n",
            "Costo en theta inicial (zeros): 0.693\n",
            "Costo esperado (aproximado): 0.693\n",
            "\n",
            "[-0.04918109  1.7689368  -0.05340057 -0.0470806  -0.25864717 -0.09672271\n",
            " 19.46118257 -0.20570001 -0.03422022]\n",
            "Gradiente en theta inicial (zeros):\n",
            "\t[-0.0492, 1.7689, -0.0534]\n",
            "Gradiente esperado (aproximado):\n",
            "\t[-0.1000, -12.0092, -11.2628]\n",
            "\n"
          ]
        }
      ],
      "source": [
        "# Inicializacion de parametros de ajuste\n",
        "initial_theta = np.zeros(n+1)\n",
        "print(initial_theta)\n",
        "cost, grad = costFunction(initial_theta, X, y)\n",
        "\n",
        "print('Costo en theta inicial (zeros): {:.3f}'.format(cost))\n",
        "print('Costo esperado (aproximado): 0.693\\n')\n",
        "print(grad)\n",
        "print('Gradiente en theta inicial (zeros):')\n",
        "print('\\t[{:.4f}, {:.4f}, {:.4f}]'.format(*grad))\n",
        "print('Gradiente esperado (aproximado):\\n\\t[-0.1000, -12.0092, -11.2628]\\n')\n",
        "\n"
      ]
    },
    {
      "cell_type": "code",
      "execution_count": 60,
      "metadata": {
        "id": "4Um8ITq2JVNj",
        "colab": {
          "base_uri": "https://localhost:8080/"
        },
        "outputId": "2f205851-195b-4c2d-a79a-ece981017d16"
      },
      "outputs": [
        {
          "output_type": "stream",
          "name": "stdout",
          "text": [
            "[-24.    0.2   0.2   0.2   0.2   0.2   0.2   0.2   0.2]\n",
            "Costo en theta prueba: nan\n",
            "Costo esperado (aproximado): 0.218\n",
            "\n",
            "Gradiente en theta prueba:\n",
            "\t[0.429, 284.768, 1.837]\n",
            "Gradiente esperado (aproximado):\n",
            "\t[0.043, 2.566, 2.647]\n"
          ]
        },
        {
          "output_type": "stream",
          "name": "stderr",
          "text": [
            "<ipython-input-57-e3041c0335d8>:10: RuntimeWarning: divide by zero encountered in log\n",
            "  J = (1 / m) * np.sum(-y.dot(np.log(h)) - (1 - y).dot(np.log(1 - h)))\n"
          ]
        }
      ],
      "source": [
        "# Calcula y muestra el costo y el gradiente con valores de theta diferentes a cero\n",
        "\n",
        "test_theta = np.array([-24, 0.2, 0.2, 0.2, 0.2, 0.2, 0.2, 0.2, 0.2])\n",
        "#test_theta = np.array([-11.74749157, 0.09927308, 0.09316497])\n",
        "print(test_theta)\n",
        "cost, grad = costFunction(test_theta, X, y)\n",
        "\n",
        "print('Costo en theta prueba: {:.3f}'.format(cost))\n",
        "print('Costo esperado (aproximado): 0.218\\n')\n",
        "\n",
        "print('Gradiente en theta prueba:')\n",
        "print('\\t[{:.3f}, {:.3f}, {:.3f}]'.format(*grad))\n",
        "print('Gradiente esperado (aproximado):\\n\\t[0.043, 2.566, 2.647]')"
      ]
    },
    {
      "cell_type": "markdown",
      "metadata": {
        "id": "7AeXffwpJVNj"
      },
      "source": [
        "#### 1.2.3 Parámetros de aprendizaje usando `scipy.optimize`\n",
        "\n",
        "En el codigo anterior se encontró los parámetros óptimos de un modelo de regresión lineal al implementar el descenso de gradiente. Se implemento una función de costo y se calculó su gradiente, utilizando el algoritmo del descenso por el gradiente.\n",
        "\n",
        "En lugar de realizar los pasos del descenso por el gradiente, se utilizará el [módulo `scipy.optimize`] (https://docs.scipy.org/doc/scipy/reference/optimize.html). SciPy es una biblioteca de computación numérica para `python`. Proporciona un módulo de optimización para la búsqueda y minimización de raíces. A partir de `scipy 1.0`, la función` scipy.optimize.minimize` es el método a utilizar para problemas de optimización (tanto restringidos como no restringidos).\n",
        "\n",
        "For logistic regression, you want to optimize the cost function $J(\\theta)$ with parameters $\\theta$.\n",
        "Concretely, you are going to use `optimize.minimize` to find the best parameters $\\theta$ for the logistic regression cost function, given a fixed dataset (of X and y values). You will pass to `optimize.minimize` the following inputs:\n",
        "\n",
        "Para la regresión logística, se desea optimizar la función de costo $J(\\theta)$ con los parámetros $\\theta$.\n",
        "Concretamente, se va a utilizar `optimize.minimize` para encontrar los mejores parámetros $\\theta$ para la función de costo de regresión logística, dado un dataset fijo (de valores X e y). Se pasara a `optimize.minimize` las siguientes entradas:\n",
        "\n",
        "- `costFunction`: Una función de costo que, cuando se le da el dataset de entrenamiento y un $\\theta$ particular, calcula el costo de regresión logística y el gradiente con respecto a $\\theta$ para el dataset(X, y). Es importante tener en cuenta que solo se pasa el nombre de la función sin el paréntesis. Esto indica que solo proporcionamos una referencia a esta función y no evaluamos el resultado de esta función.\n",
        "- `initial_theta`: Los valores iniciales de los parametros que se tratan de optimizar.\n",
        "- `(X, y)`: Estos son argumentos adicionales a la funcion de costo.\n",
        "- `jac`: Indicación si la función de costo devuelve el jacobiano (gradiente) junto con el valor de costo. (True)\n",
        "- `method`: Método / algoritmo de optimización a utilizar\n",
        "- `options`: Opciones adicionales que pueden ser específicas del método de optimización específico. Solo se indica al algoritmo el número máximo de iteraciones antes de que termine.\n",
        "\n",
        "Si se ha completado la `costFunction` correctamente,`optimize.minimize` convergerá en los parámetros de optimización correctos y devolverá los valores finales del costo y $\\theta$ en un objeto de clase.\n",
        "\n",
        "Al usar `optimize.minimize`, no se tuvo que escribir ningún bucle ni establecer una tasa de aprendizaje como se hizo para el descenso de gradientes. Todo esto se hace mediante `optimize.minimize`: solo se necesita proporcionar una función que calcule el costo y el gradiente.\n",
        "\n",
        "A continuación, se tiene el código para llamar a `optimize.minimize` con los argumentos correctos."
      ]
    },
    {
      "cell_type": "code",
      "execution_count": 61,
      "metadata": {
        "scrolled": true,
        "id": "sB2xAu03JVNj",
        "colab": {
          "base_uri": "https://localhost:8080/"
        },
        "outputId": "fd563a50-d228-40ed-9eb7-1ef9d9515843"
      },
      "outputs": [
        {
          "output_type": "stream",
          "name": "stderr",
          "text": [
            "<ipython-input-61-0dfcfa2e2ef1>:7: OptimizeWarning: Unknown solver options: maxiter\n",
            "  res = optimize.minimize(costFunction,\n"
          ]
        },
        {
          "output_type": "stream",
          "name": "stdout",
          "text": [
            "Costo con un valor de theta encontrado por optimize.minimize: 0.636\n",
            "Costo esperado (aproximado): 0.203\n",
            "\n",
            "theta:\n",
            "\t[1.674, -0.000, -0.089]\n",
            "Theta esperado (aproximado):\n",
            "\t[-25.161, 0.206, 0.201]\n"
          ]
        }
      ],
      "source": [
        "# Establecer las opciones para optimize.minimize\n",
        "options= {'maxiter': 1000}\n",
        "\n",
        "# revisar la documentacion de scipy's optimize.minimize para mayor descripcion de los parametros\n",
        "# La funcion devuekve un objeto `OptimizeResult`\n",
        "# Se utiliza el algoritmo de Newton truncado para la optimización.\n",
        "res = optimize.minimize(costFunction,\n",
        "                        initial_theta,\n",
        "                        (X, y),\n",
        "                        jac=True,\n",
        "                        method='TNC',\n",
        "                        options=options)\n",
        "\n",
        "# la propiedad fun del objeto devuelto por `OptimizeResult`\n",
        "# contiene el valor del costFunction de un theta optimizado\n",
        "cost = res.fun\n",
        "\n",
        "# Theta optimizada esta en la propiedad x\n",
        "theta = res.x\n",
        "\n",
        "# Imprimir theta en la pantalla\n",
        "print('Costo con un valor de theta encontrado por optimize.minimize: {:.3f}'.format(cost))\n",
        "print('Costo esperado (aproximado): 0.203\\n');\n",
        "\n",
        "print('theta:')\n",
        "print('\\t[{:.3f}, {:.3f}, {:.3f}]'.format(*theta))\n",
        "print('Theta esperado (aproximado):\\n\\t[-25.161, 0.206, 0.201]')"
      ]
    },
    {
      "cell_type": "markdown",
      "metadata": {
        "id": "1DlPL874JVNk"
      },
      "source": [
        "Una vez que se completa `optimize.minimize`, se usa el valor final de $\\theta$ para visualizar el límite de decisión en los datos de entrenamiento.\n",
        "\n",
        "Para hacerlo, se implementa la función `plotDecisionBoundary` para trazar el límite de decisión sobre los datos de entrenamiento."
      ]
    },
    {
      "cell_type": "code",
      "execution_count": 62,
      "metadata": {
        "id": "_mDWAzqxJVNk"
      },
      "outputs": [],
      "source": [
        "def plotDecisionBoundary(plotData, theta, X, y):\n",
        "    \"\"\"\n",
        "    Grafica los puntos X y Y en una nueva figura con un limite de desicion definido por theta.\n",
        "    the data points X and y into a new figure with the decision boundary defined by theta.\n",
        "    Grafica los puntos con * para los ejemplos positivos y con o para los ejemplos negativos.\n",
        "\n",
        "    Parametros:\n",
        "    ----------\n",
        "    plotData : func\n",
        "        A function reference for plotting the X, y data.\n",
        "\n",
        "    theta : array_like\n",
        "        Parametros para la regresion logistica. Un vecto de la forma (n+1, ).\n",
        "\n",
        "    X : array_like\n",
        "        Data set de entrada. Se supone que X es una de las siguientes:\n",
        "            1) Matriz Mx3, donde la primera columna es una columna de unos para intercepción.\n",
        "            2) Matriz MxN, N> 3, donde la primera columna son todos unos.\n",
        "\n",
        "    y : array_like\n",
        "        Vector de datos de etiquetas de la forma (m, ).\n",
        "    \"\"\"\n",
        "    # hacer que theta sera un arreglo numpy\n",
        "    theta = np.array(theta)\n",
        "\n",
        "    # Graficar los datos (recordar que la primera columna en X es la intercepción)\n",
        "    plotData(X[:, 1:3], y)\n",
        "\n",
        "    if X.shape[1] <= 3:\n",
        "        # Solo se requieren 2 puntos para definir una linea, para lo cual se eligen dos puntos finales\n",
        "        plot_x = np.array([np.min(X[:, 1]) - 2, np.max(X[:, 1]) + 2])\n",
        "\n",
        "        # Calcular la línea límite de decisión\n",
        "        plot_y = (-1. / theta[2]) * (theta[1] * plot_x + theta[0])\n",
        "\n",
        "        print(plot_x)\n",
        "        print(plot_y)\n",
        "        # Graficar y ajustar los ejes para una mejor visualización\n",
        "        pyplot.plot(plot_x, plot_y)\n",
        "\n",
        "        # Leyenda, especifica para el ejercicio\n",
        "        pyplot.legend(['Admitido', 'No admitido', 'Limite de decisión'])\n",
        "        pyplot.xlim([30, 100])\n",
        "        pyplot.ylim([30, 100])\n",
        "    else:\n",
        "        # Rango de la grilla\n",
        "        u = np.linspace(-1, 1.5, 50)\n",
        "        v = np.linspace(-1, 1.5, 50)\n",
        "\n",
        "        z = np.zeros((u.size, v.size))\n",
        "        # Evalua z = theta*x sobre la grilla\n",
        "        for i, ui in enumerate(u):\n",
        "            for j, vj in enumerate(v):\n",
        "                z[i, j] = np.dot(mapFeature(ui, vj), theta)\n",
        "\n",
        "        z = z.T  # importante transponer z antes de llamar al contorno\n",
        "        # print(z)\n",
        "\n",
        "        # Plot z = 0\n",
        "        pyplot.contour(u, v, z, levels=[0], linewidths=2, colors='g')\n",
        "        pyplot.contourf(u, v, z, levels=[np.min(z), 0, np.max(z)], cmap='Greens', alpha=0.4)\n"
      ]
    },
    {
      "cell_type": "code",
      "execution_count": 63,
      "metadata": {
        "id": "Q6oQNi0CJVNk",
        "colab": {
          "base_uri": "https://localhost:8080/",
          "height": 158
        },
        "outputId": "4c82471c-96fe-4600-9b25-b40e7361f590"
      },
      "outputs": [
        {
          "output_type": "error",
          "ename": "NameError",
          "evalue": "name 'plotData' is not defined",
          "traceback": [
            "\u001b[0;31m---------------------------------------------------------------------------\u001b[0m",
            "\u001b[0;31mNameError\u001b[0m                                 Traceback (most recent call last)",
            "\u001b[0;32m<ipython-input-63-3ebd913db2b3>\u001b[0m in \u001b[0;36m<cell line: 2>\u001b[0;34m()\u001b[0m\n\u001b[1;32m      1\u001b[0m \u001b[0;31m# Graficar limites\u001b[0m\u001b[0;34m\u001b[0m\u001b[0;34m\u001b[0m\u001b[0m\n\u001b[0;32m----> 2\u001b[0;31m \u001b[0mplotDecisionBoundary\u001b[0m\u001b[0;34m(\u001b[0m\u001b[0mplotData\u001b[0m\u001b[0;34m,\u001b[0m \u001b[0mtheta\u001b[0m\u001b[0;34m,\u001b[0m \u001b[0mX\u001b[0m\u001b[0;34m,\u001b[0m \u001b[0my\u001b[0m\u001b[0;34m)\u001b[0m\u001b[0;34m\u001b[0m\u001b[0;34m\u001b[0m\u001b[0m\n\u001b[0m",
            "\u001b[0;31mNameError\u001b[0m: name 'plotData' is not defined"
          ]
        }
      ],
      "source": [
        "# Graficar limites\n",
        "plotDecisionBoundary(plotData, theta, X, y)"
      ]
    },
    {
      "cell_type": "markdown",
      "metadata": {
        "id": "nj6vynAtJVNk"
      },
      "source": [
        "<a id=\"section4\"></a>\n",
        "#### 1.2.4 Evaluación de la regresión logistica\n",
        "\n",
        "Después de aprender los parámetros, se puede usar el modelo para predecir si un estudiante en particular será admitido. Para un estudiante con una puntuación en el Examen 1 de 45 y una puntuación en el Examen 2 de 85, debe esperar ver una probabilidad de admisión de 0,776. Otra forma de evaluar la calidad de los parámetros que hemos encontrado es ver qué tan bien predice el modelo aprendido en nuestro conjunto de entrenamiento."
      ]
    },
    {
      "cell_type": "code",
      "execution_count": 64,
      "metadata": {
        "id": "0xz73RAdJVNk"
      },
      "outputs": [],
      "source": [
        "def predict(theta, X):\n",
        "    \"\"\"\n",
        "    Predecir si la etiqueta es 0 o 1 mediante regresión logística aprendida.\n",
        "    Calcula las predicciones para X usando un umbral en 0.5 (es decir, si sigmoide (theta.T * x)> = 0.5, predice 1)\n",
        "\n",
        "    Parametros\n",
        "    ----------\n",
        "    theta : array_like\n",
        "        Parametros para regresion logistica. Un vecto de la forma (n+1, ).\n",
        "\n",
        "    X : array_like\n",
        "        Datos utilizados para el calculo de las predicciones.\n",
        "        La fila es el numero de los puntos para calcular las predicciones,\n",
        "        y las columnas con el numero de caracteristicas.\n",
        "\n",
        "    Devuelve\n",
        "    -------\n",
        "    p : array_like\n",
        "        Predicciones y 0 o 1 para cada fila en X.\n",
        "    \"\"\"\n",
        "    m = X.shape[0] # Numero de ejemplo de entrenamiento\n",
        "\n",
        "    p = np.zeros(m)\n",
        "\n",
        "    p = np.round(sigmoid(X.dot(theta.T)))\n",
        "    return p"
      ]
    },
    {
      "cell_type": "markdown",
      "metadata": {
        "id": "w5PnbHiWJVNk"
      },
      "source": [
        "Una vez entrenado el modelo se procede a realizar la prediccion y evaluación de los resultados de predecir cual es el valor que vota el modelo para todos los datos utilizados en el entrenamiento."
      ]
    },
    {
      "cell_type": "code",
      "execution_count": 66,
      "metadata": {
        "id": "VcAxVqIWJVNk",
        "colab": {
          "base_uri": "https://localhost:8080/"
        },
        "outputId": "f9a01b00-70e6-42c6-8598-8932f62f9e39"
      },
      "outputs": [
        {
          "output_type": "stream",
          "name": "stdout",
          "text": [
            "Precisión de entrenamiento: 63.53 %\n",
            "Precisión esperada (aproximadamente): 89.00 %\n"
          ]
        }
      ],
      "source": [
        "#  Predice la probabilidad de ingreso para un estudiante con nota de 45 en el examen 1 y nota de 85 en el examen 2\n",
        "# prob = sigmoid(np.dot([1, 45, 85], theta))\n",
        "# print('Para un estudiante con notas de 45 y 85, se predice una probabilidad de admisión de: {:.3f}%'.format(prob))\n",
        "# print('Valor esperado: 0.775 +/- 0.002\\n')\n",
        "\n",
        "# Compute accuracy on our training set\n",
        "p = predict(theta, X)\n",
        "print('Precisión de entrenamiento: {:.2f} %'.format(np.mean(p == y) * 100))\n",
        "print('Precisión esperada (aproximadamente): 89.00 %')"
      ]
    }
  ],
  "metadata": {
    "kernelspec": {
      "display_name": "Python 3",
      "language": "python",
      "name": "python3"
    },
    "language_info": {
      "codemirror_mode": {
        "name": "ipython",
        "version": 3
      },
      "file_extension": ".py",
      "mimetype": "text/x-python",
      "name": "python",
      "nbconvert_exporter": "python",
      "pygments_lexer": "ipython3",
      "version": "3.8.5"
    },
    "colab": {
      "provenance": []
    }
  },
  "nbformat": 4,
  "nbformat_minor": 0
}